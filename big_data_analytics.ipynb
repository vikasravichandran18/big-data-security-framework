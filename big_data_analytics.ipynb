{
  "nbformat": 4,
  "nbformat_minor": 0,
  "metadata": {
    "colab": {
      "provenance": []
    },
    "kernelspec": {
      "name": "python3",
      "display_name": "Python 3"
    },
    "language_info": {
      "name": "python"
    }
  },
  "cells": [
    {
      "cell_type": "code",
      "execution_count": 1,
      "metadata": {
        "colab": {
          "base_uri": "https://localhost:8080/"
        },
        "id": "1HBOUX67UWPZ",
        "outputId": "6000ea38-bfb5-4af2-95f9-3592da62d0da"
      },
      "outputs": [
        {
          "output_type": "stream",
          "name": "stdout",
          "text": [
            "Requirement already satisfied: cryptography in /usr/local/lib/python3.11/dist-packages (43.0.3)\n",
            "Requirement already satisfied: cffi>=1.12 in /usr/local/lib/python3.11/dist-packages (from cryptography) (1.17.1)\n",
            "Requirement already satisfied: pycparser in /usr/local/lib/python3.11/dist-packages (from cffi>=1.12->cryptography) (2.22)\n",
            "Encryption key generated and saved.\n",
            "Encrypted data stored in secure_data.json\n",
            "Decrypted Data: {'user_id': 101, 'name': 'Alice', 'email': 'alice@example.com', 'dob': '1990-05-12'}\n",
            "Action logged: admin - Accessed encrypted user data\n",
            "Action logged: admin - Decrypted data\n",
            "{'user_id': 101, 'name': 'Alice', 'email': 'alice@example.com', 'dob': '1990-05-12'}\n",
            "Action logged: guest - Unauthorized access attempt\n",
            "ACCESS DENIED\n"
          ]
        }
      ],
      "source": [
        "# Install required library\n",
        "!pip install cryptography\n",
        "\n",
        "import os\n",
        "import json\n",
        "import csv\n",
        "from datetime import datetime\n",
        "from cryptography.fernet import Fernet\n",
        "\n",
        "# ===================== 1. Key Generation =====================\n",
        "key = Fernet.generate_key()\n",
        "fernet = Fernet(key)\n",
        "\n",
        "# Save the key securely (in real-world, store in secure vault)\n",
        "with open(\"encryption_key.key\", \"wb\") as key_file:\n",
        "    key_file.write(key)\n",
        "\n",
        "print(\"Encryption key generated and saved.\")\n",
        "\n",
        "# ===================== 2. Secure Data Storage =====================\n",
        "def encrypt_and_store(data, filename):\n",
        "    \"\"\"Encrypts data (JSON) and stores it securely.\"\"\"\n",
        "    json_data = json.dumps(data).encode()\n",
        "    encrypted = fernet.encrypt(json_data)\n",
        "    with open(filename, \"wb\") as file:\n",
        "        file.write(encrypted)\n",
        "    print(f\"Encrypted data stored in {filename}\")\n",
        "\n",
        "def decrypt_data(filename):\n",
        "    \"\"\"Decrypts stored data.\"\"\"\n",
        "    with open(filename, \"rb\") as file:\n",
        "        encrypted = file.read()\n",
        "    decrypted = fernet.decrypt(encrypted)\n",
        "    return json.loads(decrypted)\n",
        "\n",
        "# Sample sensitive data\n",
        "user_data = {\n",
        "    \"user_id\": 101,\n",
        "    \"name\": \"Alice\",\n",
        "    \"email\": \"alice@example.com\",\n",
        "    \"dob\": \"1990-05-12\"\n",
        "}\n",
        "\n",
        "encrypt_and_store(user_data, \"secure_data.json\")\n",
        "print(\"Decrypted Data:\", decrypt_data(\"secure_data.json\"))\n",
        "\n",
        "# ===================== 3. Compliance Logging =====================\n",
        "def log_access(user, action):\n",
        "    \"\"\"Logs user actions for compliance tracking.\"\"\"\n",
        "    with open(\"compliance_log.csv\", \"a\", newline=\"\") as log_file:\n",
        "        writer = csv.writer(log_file)\n",
        "        writer.writerow([datetime.now(), user, action])\n",
        "    print(f\"Action logged: {user} - {action}\")\n",
        "\n",
        "log_access(\"admin\", \"Accessed encrypted user data\")\n",
        "\n",
        "# ===================== 4. Access Control =====================\n",
        "authorized_users = {\"admin\", \"security_officer\"}\n",
        "\n",
        "def access_data(requesting_user):\n",
        "    if requesting_user in authorized_users:\n",
        "        log_access(requesting_user, \"Decrypted data\")\n",
        "        return decrypt_data(\"secure_data.json\")\n",
        "    else:\n",
        "        log_access(requesting_user, \"Unauthorized access attempt\")\n",
        "        return \"ACCESS DENIED\"\n",
        "\n",
        "print(access_data(\"admin\"))\n",
        "print(access_data(\"guest\"))\n",
        "\n",
        "# ===================== 5. GDPR Compliance - Right to Erasure =====================\n",
        "def delete_user_data():\n",
        "    if os.path.exists(\"secure_data.json\"):\n",
        "        os.remove(\"secure_data.json\")\n",
        "        log_access(\"admin\", \"Deleted user data (GDPR Right to Erasure)\")\n",
        "        print(\"User data deleted for GDPR compliance.\")\n",
        "\n",
        "# Uncomment to test deletion\n",
        "# delete_user_data()\n"
      ]
    }
  ]
}